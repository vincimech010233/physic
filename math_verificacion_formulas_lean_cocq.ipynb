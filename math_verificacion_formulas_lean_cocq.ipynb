{
  "nbformat": 4,
  "nbformat_minor": 0,
  "metadata": {
    "colab": {
      "provenance": [],
      "authorship_tag": "ABX9TyMPvfbDqZ5N4rchFeXIPa0S"
    },
    "kernelspec": {
      "name": "python3",
      "display_name": "Python 3"
    },
    "language_info": {
      "name": "python"
    }
  },
  "cells": [
    {
      "cell_type": "code",
      "execution_count": null,
      "metadata": {
        "id": "H45XTvjAs8La"
      },
      "outputs": [],
      "source": [
        "!apt update\n",
        "!apt install -y coq\n",
        "!coqc --version"
      ]
    },
    {
      "cell_type": "code",
      "source": [
        "!apt install -y curl\n",
        "\n",
        "# Descargar e instalar elan en modo no-interactivo\n",
        "!curl -sSfL https://raw.githubusercontent.com/leanprover/elan/master/elan-init.sh | bash -s -- -y --default-toolchain leanprover/lean4:stable\n",
        "\n",
        "# Agregar Lean al PATH para la sesión de Colab\n",
        "import os\n",
        "elan_bin = os.path.expanduser(\"~/.elan/bin\")\n",
        "os.environ[\"PATH\"] = elan_bin + \":\" + os.environ[\"PATH\"]\n",
        "\n",
        "# Verificar versión\n",
        "!~/.elan/bin/lean --version\n"
      ],
      "metadata": {
        "id": "2PS45sWus-Yt"
      },
      "execution_count": null,
      "outputs": []
    },
    {
      "cell_type": "markdown",
      "source": [
        "# lean"
      ],
      "metadata": {
        "id": "BArTu8ptve6i"
      }
    },
    {
      "cell_type": "code",
      "source": [
        "%%writefile suma.lean\n",
        "theorem suma_conmutativa : ∀ a b : Nat, a + b = b + a := by\n",
        "  intro a\n",
        "  induction a with\n",
        "  | zero =>\n",
        "    intro b\n",
        "    rw [Nat.zero_add, Nat.add_zero]\n",
        "  | succ a' ih =>\n",
        "    intro b\n",
        "    rw [Nat.succ_add, ih, Nat.add_succ]\n",
        "\n",
        "#check suma_conmutativa       -- muestra el tipo del teorema\n",
        "#print axioms suma_conmutativa -- muestra si usa axiomas externos"
      ],
      "metadata": {
        "colab": {
          "base_uri": "https://localhost:8080/"
        },
        "id": "vXMjWE5KtWmr",
        "outputId": "123b914f-3f03-4fe4-e51b-094238b3c6db"
      },
      "execution_count": 14,
      "outputs": [
        {
          "output_type": "stream",
          "name": "stdout",
          "text": [
            "Overwriting suma.lean\n"
          ]
        }
      ]
    },
    {
      "cell_type": "code",
      "source": [
        "!~/.elan/bin/lean suma.lean\n"
      ],
      "metadata": {
        "colab": {
          "base_uri": "https://localhost:8080/"
        },
        "id": "oOO1UJbwt8cD",
        "outputId": "e2fc432e-601f-4159-ccbf-ffd626a5fbf3"
      },
      "execution_count": 17,
      "outputs": [
        {
          "output_type": "stream",
          "name": "stdout",
          "text": [
            "suma_conmutativa (a b : Nat) : a + b = b + a\n",
            "'suma_conmutativa' does not depend on any axioms\n"
          ]
        }
      ]
    },
    {
      "cell_type": "markdown",
      "source": [
        "# coqc"
      ],
      "metadata": {
        "id": "ij15D6h0vl_m"
      }
    },
    {
      "cell_type": "code",
      "source": [
        "%%writefile suma.v\n",
        "Theorem suma_conmutativa : forall a b : nat, a + b = b + a.\n",
        "Proof.\n",
        "  intros a b.\n",
        "  induction a as [| a' IH].\n",
        "  - simpl. rewrite <- plus_n_O. reflexivity.\n",
        "  - simpl. rewrite IH. rewrite <- plus_n_Sm. reflexivity.\n",
        "Qed.\n"
      ],
      "metadata": {
        "colab": {
          "base_uri": "https://localhost:8080/"
        },
        "id": "U9vjvJYTt-Dn",
        "outputId": "ba302fcb-cf4c-46b7-b981-87eae9052816"
      },
      "execution_count": 18,
      "outputs": [
        {
          "output_type": "stream",
          "name": "stdout",
          "text": [
            "Writing suma.v\n"
          ]
        }
      ]
    },
    {
      "cell_type": "code",
      "source": [
        "!coqtop < suma.v\n"
      ],
      "metadata": {
        "colab": {
          "base_uri": "https://localhost:8080/"
        },
        "id": "MZgTJvz_vqya",
        "outputId": "79078068-7193-4a58-ff91-f84068bbb713"
      },
      "execution_count": 19,
      "outputs": [
        {
          "output_type": "stream",
          "name": "stdout",
          "text": [
            "Welcome to Coq 8.15.0\n",
            "\n",
            "Coq < 1 goal\n",
            "  \n",
            "  ============================\n",
            "  \u001b[1mforall\u001b[0m a b : nat, a\u001b[37m +\u001b[0m b\u001b[37m =\u001b[0m b\u001b[37m +\u001b[0m a\n",
            "\n",
            "suma_conmutativa < \n",
            "suma_conmutativa < 1 goal\n",
            "  \n",
            "  a, b : nat\n",
            "  ============================\n",
            "  a\u001b[37m +\u001b[0m b\u001b[37m =\u001b[0m b\u001b[37m +\u001b[0m a\n",
            "\n",
            "suma_conmutativa < 2 goals\n",
            "  \n",
            "  b : nat\n",
            "  ============================\n",
            "  0\u001b[37m +\u001b[0m b\u001b[37m =\u001b[0m b\u001b[37m +\u001b[0m 0\n",
            "\n",
            "goal 2 is:\n",
            " S a'\u001b[37m +\u001b[0m b\u001b[37m =\u001b[0m b\u001b[37m +\u001b[0m S a'\n",
            "\n",
            "suma_conmutativa < 1 goal\n",
            "  \n",
            "  b : nat\n",
            "  ============================\n",
            "  0\u001b[37m +\u001b[0m b\u001b[37m =\u001b[0m b\u001b[37m +\u001b[0m 0\n",
            "\n",
            "1 goal\n",
            "  \n",
            "  b : nat\n",
            "  ============================\n",
            "  b\u001b[37m =\u001b[0m b\u001b[37m +\u001b[0m 0\n",
            "\n",
            "1 goal\n",
            "  \n",
            "  b : nat\n",
            "  ============================\n",
            "  b\u001b[37m =\u001b[0m b\n",
            "\n",
            "This subproof is complete, but there are some unfocused goals.\n",
            "Focus next goal with bullet -.\n",
            "\n",
            "1 goal\n",
            "\n",
            "goal 1 is:\n",
            " S a'\u001b[37m +\u001b[0m b\u001b[37m =\u001b[0m b\u001b[37m +\u001b[0m S a'\n",
            "\n",
            "suma_conmutativa < 1 goal\n",
            "  \n",
            "  a', b : nat\n",
            "  IH : a'\u001b[37m +\u001b[0m b\u001b[37m =\u001b[0m b\u001b[37m +\u001b[0m a'\n",
            "  ============================\n",
            "  S a'\u001b[37m +\u001b[0m b\u001b[37m =\u001b[0m b\u001b[37m +\u001b[0m S a'\n",
            "\n",
            "1 goal\n",
            "  \n",
            "  a', b : nat\n",
            "  IH : a'\u001b[37m +\u001b[0m b\u001b[37m =\u001b[0m b\u001b[37m +\u001b[0m a'\n",
            "  ============================\n",
            "  S (a'\u001b[37m +\u001b[0m b)\u001b[37m =\u001b[0m b\u001b[37m +\u001b[0m S a'\n",
            "\n",
            "1 goal\n",
            "  \n",
            "  a', b : nat\n",
            "  IH : a'\u001b[37m +\u001b[0m b\u001b[37m =\u001b[0m b\u001b[37m +\u001b[0m a'\n",
            "  ============================\n",
            "  S (b\u001b[37m +\u001b[0m a')\u001b[37m =\u001b[0m b\u001b[37m +\u001b[0m S a'\n",
            "\n",
            "1 goal\n",
            "  \n",
            "  a', b : nat\n",
            "  IH : a'\u001b[37m +\u001b[0m b\u001b[37m =\u001b[0m b\u001b[37m +\u001b[0m a'\n",
            "  ============================\n",
            "  S (b\u001b[37m +\u001b[0m a')\u001b[37m =\u001b[0m S (b\u001b[37m +\u001b[0m a')\n",
            "\n",
            "No more goals.\n",
            "\n",
            "suma_conmutativa < \n",
            "Coq < \n"
          ]
        }
      ]
    },
    {
      "cell_type": "markdown",
      "source": [
        "# Python"
      ],
      "metadata": {
        "id": "5KWkNM39v7Hj"
      }
    },
    {
      "cell_type": "code",
      "source": [
        "def suma_conmutativa(a, b):\n",
        "    return a + b == b + a\n",
        "\n",
        "# Ejemplos\n",
        "print(suma_conmutativa(2, 5))   # True\n",
        "print(suma_conmutativa(100, 7)) # True"
      ],
      "metadata": {
        "colab": {
          "base_uri": "https://localhost:8080/"
        },
        "id": "RFVo5wzOv9c5",
        "outputId": "18639ebe-7139-4974-9464-5d1b12c73ca7"
      },
      "execution_count": 20,
      "outputs": [
        {
          "output_type": "stream",
          "name": "stdout",
          "text": [
            "True\n",
            "True\n"
          ]
        }
      ]
    },
    {
      "cell_type": "code",
      "source": [
        "%%writefile suma.lean\n",
        "theorem suma_conmutativa : ∀ a b : Nat, a + b = b + a := by\n",
        "  intro a\n",
        "  induction a with\n",
        "  | zero =>\n",
        "    intro b\n",
        "    rw [Nat.zero_add, Nat.add_zero]\n",
        "  | succ a' ih =>\n",
        "    intro b\n",
        "    rw [Nat.succ_add, ih, Nat.add_succ]\n",
        "\n",
        "#check suma_conmutativa\n",
        "#print axioms suma_conmutativa"
      ],
      "metadata": {
        "colab": {
          "base_uri": "https://localhost:8080/"
        },
        "id": "2ZRTtuAcwJKD",
        "outputId": "29cdac23-06bf-412c-ade9-14c2e60a96a9"
      },
      "execution_count": 21,
      "outputs": [
        {
          "output_type": "stream",
          "name": "stdout",
          "text": [
            "Overwriting suma.lean\n"
          ]
        }
      ]
    },
    {
      "cell_type": "code",
      "source": [
        "!~/.elan/bin/lean suma.lean\n"
      ],
      "metadata": {
        "colab": {
          "base_uri": "https://localhost:8080/"
        },
        "id": "O30_k1y_wPoK",
        "outputId": "24a4c7b2-aa9f-4ca8-9f72-0c84769f1b4b"
      },
      "execution_count": 22,
      "outputs": [
        {
          "output_type": "stream",
          "name": "stdout",
          "text": [
            "suma_conmutativa (a b : Nat) : a + b = b + a\n",
            "'suma_conmutativa' does not depend on any axioms\n"
          ]
        }
      ]
    },
    {
      "cell_type": "code",
      "source": [
        "%%writefile suma.v\n",
        "Theorem suma_conmutativa : forall a b : nat, a + b = b + a.\n",
        "Proof.\n",
        "  intros a b.\n",
        "  induction a as [| a' IH].\n",
        "  - simpl. rewrite <- plus_n_O. reflexivity.\n",
        "  - simpl. rewrite IH. rewrite <- plus_n_Sm. reflexivity.\n",
        "Qed.\n"
      ],
      "metadata": {
        "colab": {
          "base_uri": "https://localhost:8080/"
        },
        "id": "VSGP26w5wVR-",
        "outputId": "4b5b889f-d5f2-4b31-9d3c-412868b13108"
      },
      "execution_count": 23,
      "outputs": [
        {
          "output_type": "stream",
          "name": "stdout",
          "text": [
            "Overwriting suma.v\n"
          ]
        }
      ]
    },
    {
      "cell_type": "code",
      "source": [
        "!coqc -q suma.v && echo \"Prueba de Coq correcta ✅\"\n"
      ],
      "metadata": {
        "colab": {
          "base_uri": "https://localhost:8080/"
        },
        "id": "5Dduz61mwYjN",
        "outputId": "c796cac0-713c-4717-eb3d-5cc399b65dd3"
      },
      "execution_count": 26,
      "outputs": [
        {
          "output_type": "stream",
          "name": "stdout",
          "text": [
            "Prueba de Coq correcta ✅\n"
          ]
        }
      ]
    },
    {
      "cell_type": "code",
      "source": [
        "%%writefile suma.v\n",
        "Theorem suma_conmutativa : forall a b : nat, a + b = b + a.\n",
        "Proof.\n",
        "  intros a b.\n",
        "  induction a as [| a' IH].\n",
        "  - simpl. rewrite <- plus_n_O. reflexivity.\n",
        "  - simpl. rewrite IH. rewrite <- plus_n_Sm. reflexivity.\n",
        "Qed.\n",
        "\n",
        "Check suma_conmutativa.\n",
        "Print Assumptions suma_conmutativa.\n"
      ],
      "metadata": {
        "colab": {
          "base_uri": "https://localhost:8080/"
        },
        "id": "6NZkRUp6w5a2",
        "outputId": "2c5485fe-c148-44ab-e14a-22fc00bfad2f"
      },
      "execution_count": 28,
      "outputs": [
        {
          "output_type": "stream",
          "name": "stdout",
          "text": [
            "Overwriting suma.v\n"
          ]
        }
      ]
    },
    {
      "cell_type": "code",
      "source": [
        "!coqc suma.v\n",
        "!coqtop < suma.v"
      ],
      "metadata": {
        "colab": {
          "base_uri": "https://localhost:8080/"
        },
        "id": "IUl6r_0Dw9KC",
        "outputId": "324b2849-cef3-4e06-f07f-8b41d2c6c777"
      },
      "execution_count": 29,
      "outputs": [
        {
          "output_type": "stream",
          "name": "stdout",
          "text": [
            "suma_conmutativa\n",
            "     : \u001b[1mforall\u001b[0m a b : nat, a\u001b[37m +\u001b[0m b\u001b[37m =\u001b[0m b\u001b[37m +\u001b[0m a\n",
            "Closed under the global context\n",
            "Welcome to Coq 8.15.0\n",
            "\n",
            "Coq < 1 goal\n",
            "  \n",
            "  ============================\n",
            "  \u001b[1mforall\u001b[0m a b : nat, a\u001b[37m +\u001b[0m b\u001b[37m =\u001b[0m b\u001b[37m +\u001b[0m a\n",
            "\n",
            "suma_conmutativa < \n",
            "suma_conmutativa < 1 goal\n",
            "  \n",
            "  a, b : nat\n",
            "  ============================\n",
            "  a\u001b[37m +\u001b[0m b\u001b[37m =\u001b[0m b\u001b[37m +\u001b[0m a\n",
            "\n",
            "suma_conmutativa < 2 goals\n",
            "  \n",
            "  b : nat\n",
            "  ============================\n",
            "  0\u001b[37m +\u001b[0m b\u001b[37m =\u001b[0m b\u001b[37m +\u001b[0m 0\n",
            "\n",
            "goal 2 is:\n",
            " S a'\u001b[37m +\u001b[0m b\u001b[37m =\u001b[0m b\u001b[37m +\u001b[0m S a'\n",
            "\n",
            "suma_conmutativa < 1 goal\n",
            "  \n",
            "  b : nat\n",
            "  ============================\n",
            "  0\u001b[37m +\u001b[0m b\u001b[37m =\u001b[0m b\u001b[37m +\u001b[0m 0\n",
            "\n",
            "1 goal\n",
            "  \n",
            "  b : nat\n",
            "  ============================\n",
            "  b\u001b[37m =\u001b[0m b\u001b[37m +\u001b[0m 0\n",
            "\n",
            "1 goal\n",
            "  \n",
            "  b : nat\n",
            "  ============================\n",
            "  b\u001b[37m =\u001b[0m b\n",
            "\n",
            "This subproof is complete, but there are some unfocused goals.\n",
            "Focus next goal with bullet -.\n",
            "\n",
            "1 goal\n",
            "\n",
            "goal 1 is:\n",
            " S a'\u001b[37m +\u001b[0m b\u001b[37m =\u001b[0m b\u001b[37m +\u001b[0m S a'\n",
            "\n",
            "suma_conmutativa < 1 goal\n",
            "  \n",
            "  a', b : nat\n",
            "  IH : a'\u001b[37m +\u001b[0m b\u001b[37m =\u001b[0m b\u001b[37m +\u001b[0m a'\n",
            "  ============================\n",
            "  S a'\u001b[37m +\u001b[0m b\u001b[37m =\u001b[0m b\u001b[37m +\u001b[0m S a'\n",
            "\n",
            "1 goal\n",
            "  \n",
            "  a', b : nat\n",
            "  IH : a'\u001b[37m +\u001b[0m b\u001b[37m =\u001b[0m b\u001b[37m +\u001b[0m a'\n",
            "  ============================\n",
            "  S (a'\u001b[37m +\u001b[0m b)\u001b[37m =\u001b[0m b\u001b[37m +\u001b[0m S a'\n",
            "\n",
            "1 goal\n",
            "  \n",
            "  a', b : nat\n",
            "  IH : a'\u001b[37m +\u001b[0m b\u001b[37m =\u001b[0m b\u001b[37m +\u001b[0m a'\n",
            "  ============================\n",
            "  S (b\u001b[37m +\u001b[0m a')\u001b[37m =\u001b[0m b\u001b[37m +\u001b[0m S a'\n",
            "\n",
            "1 goal\n",
            "  \n",
            "  a', b : nat\n",
            "  IH : a'\u001b[37m +\u001b[0m b\u001b[37m =\u001b[0m b\u001b[37m +\u001b[0m a'\n",
            "  ============================\n",
            "  S (b\u001b[37m +\u001b[0m a')\u001b[37m =\u001b[0m S (b\u001b[37m +\u001b[0m a')\n",
            "\n",
            "No more goals.\n",
            "\n",
            "suma_conmutativa < \n",
            "Coq < Coq < suma_conmutativa\n",
            "     : \u001b[1mforall\u001b[0m a b : nat, a\u001b[37m +\u001b[0m b\u001b[37m =\u001b[0m b\u001b[37m +\u001b[0m a\n",
            "\n",
            "Coq < Fetching opaque proofs from disk for Coq.Init.Peano\n",
            "Closed under the global context\n",
            "\n",
            "Coq < \n"
          ]
        }
      ]
    }
  ]
}