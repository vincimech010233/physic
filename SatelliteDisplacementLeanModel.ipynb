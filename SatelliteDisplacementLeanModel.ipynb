{
  "nbformat": 4,
  "nbformat_minor": 0,
  "metadata": {
    "colab": {
      "provenance": [],
      "authorship_tag": "ABX9TyMVfGjwfbIaFqpyjAU3CbEy",
      "include_colab_link": true
    },
    "kernelspec": {
      "name": "python3",
      "display_name": "Python 3"
    },
    "language_info": {
      "name": "python"
    }
  },
  "cells": [
    {
      "cell_type": "markdown",
      "metadata": {
        "id": "view-in-github",
        "colab_type": "text"
      },
      "source": [
        "<a href=\"https://colab.research.google.com/github/vincimech010233/physic/blob/main/SatelliteDisplacementLeanModel.ipynb\" target=\"_parent\"><img src=\"https://colab.research.google.com/assets/colab-badge.svg\" alt=\"Open In Colab\"/></a>"
      ]
    },
    {
      "cell_type": "code",
      "source": [
        "!apt install -y curl\n",
        "\n",
        "!curl -sSfL https://raw.githubusercontent.com/leanprover/elan/master/elan-init.sh | bash -s -- -y --default-toolchain leanprover/lean4:stable\n",
        "\n",
        "import os\n",
        "elan_bin = os.path.expanduser(\"~/.elan/bin\")\n",
        "os.environ[\"PATH\"] = elan_bin + \":\" + os.environ[\"PATH\"]\n",
        "\n",
        "!~/.elan/bin/lean --version"
      ],
      "metadata": {
        "id": "tUI8N-KSrmCs"
      },
      "execution_count": null,
      "outputs": []
    },
    {
      "cell_type": "code",
      "source": [
        "%%writefile ejercicio1.lean\n",
        "-- Definición de constantes para el modelo de satélite\n",
        "def k : Float := 0.05\n",
        "def s0 : Float := 100.0 -- Desplazamiento inicial\n",
        "\n",
        "-- Constantes para la perturbación externa (presión solar periódica)\n",
        "def A_pert : Float := 8.0 -- Amplitud de la perturbación\n",
        "def omega_pert : Float := 0.3 -- Frecuencia angular de la perturbación\n",
        "\n",
        "-- Función exponencial aproximada usando la serie de Taylor (primeros 10 términos)\n",
        "def exp_approx (x : Float) : Float :=\n",
        "  1.0 + x + x*x/2.0 + x*x*x/6.0 + x*x*x*x/24.0 + x*x*x*x*x/120.0 +\n",
        "  x*x*x*x*x*x/720.0 + x*x*x*x*x*x*x/5040.0 + x*x*x*x*x*x*x*x/40320.0 +\n",
        "  x*x*x*x*x*x*x*x*x/362880.0\n",
        "\n",
        "-- Función Seno (sin(x)) aproximada usando la serie de Taylor (primeros 3 términos)\n",
        "-- sin(x) ≈ x - x^3/3! + x^5/5!\n",
        "def sin_approx (x : Float) : Float :=\n",
        "  x - (x*x*x) / 6.0 + (x*x*x*x*x) / 120.0\n",
        "\n",
        "-- Función de Perturbación Externa f(t) = A_pert * sin(omega_pert * t)\n",
        "def f (t : Float) : Float := A_pert * sin_approx (omega_pert * t)\n",
        "\n",
        "-- Función de Desplazamiento Total: s(t) = s0 * exp(-k * t) + f(t)\n",
        "def s_perturbed (t : Float) : Float := (s0 * exp_approx (- k * t)) + f t\n",
        "\n",
        "-- 1. Evaluar a t = 10.0 para ver el desplazamiento con la perturbación\n",
        "#eval s_perturbed 10.0\n",
        "\n",
        "-- 2. Evaluar la cota superior (s0 + A_pert), que debe ser el máximo absoluto en t=0\n",
        "def s_max_cota := s0 + A_pert\n",
        "#eval s_max_cota\n",
        "\n",
        "-- 2b. Verificación de la cota: Comprobar que la cota calculada es igual a 108.0\n",
        "#eval s_max_cota == 108.0\n",
        "\n",
        "-- 3. Verificación: Comprobar que el desplazamiento en t=10.0 (s_perturbed 10.0)\n",
        "-- es menor que la cota máxima teórica s_max_cota.\n",
        "-- Este es un chequeo de la propiedad de acotamiento.\n",
        "#eval s_perturbed 10.0 <= s_max_cota\n",
        "\n"
      ],
      "metadata": {
        "colab": {
          "base_uri": "https://localhost:8080/"
        },
        "id": "oTFrQb_IsUjo",
        "outputId": "f48a65f2-0816-4201-f9c3-8130007092e2"
      },
      "execution_count": 17,
      "outputs": [
        {
          "output_type": "stream",
          "name": "stdout",
          "text": [
            "Overwriting ejercicio1.lean\n"
          ]
        }
      ]
    },
    {
      "cell_type": "code",
      "source": [
        "!lean ejercicio1.lean"
      ],
      "metadata": {
        "colab": {
          "base_uri": "https://localhost:8080/"
        },
        "id": "rC65TFaSsYLZ",
        "outputId": "8e1578e6-3698-45e6-c384-4747b5ed39bf"
      },
      "execution_count": 18,
      "outputs": [
        {
          "output_type": "stream",
          "name": "stdout",
          "text": [
            "64.853066\n",
            "108.000000\n",
            "true\n",
            "true\n"
          ]
        }
      ]
    },
    {
      "cell_type": "code",
      "source": [],
      "metadata": {
        "id": "SZuGhjjstwxO"
      },
      "execution_count": null,
      "outputs": []
    }
  ]
}